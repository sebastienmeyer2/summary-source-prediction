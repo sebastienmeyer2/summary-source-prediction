{
 "cells": [
  {
   "cell_type": "markdown",
   "id": "d73d1c17",
   "metadata": {},
   "source": [
    "# Summary source prediction: Model selection\n",
    "\n",
    "Sébastien Meyer\n",
    "\n",
    "This notebook gathers the main preprocessing functions for data preparation which can be found in our package. Then, you can try out some models or feature selection. Enjoy!"
   ]
  },
  {
   "cell_type": "code",
   "execution_count": 25,
   "id": "4bc6fd8c",
   "metadata": {},
   "outputs": [],
   "source": [
    "import warnings\n",
    "\n",
    "import numpy as np\n",
    "import pandas as pd\n",
    "\n",
    "import nltk\n",
    "\n",
    "from sklearn.preprocessing import StandardScaler\n",
    "from sklearn.ensemble import ExtraTreesClassifier, RandomForestClassifier\n",
    "from sklearn.linear_model import LogisticRegression\n",
    "from sklearn.metrics import accuracy_score\n",
    "from sklearn.model_selection import StratifiedKFold, cross_val_score, train_test_split\n",
    "\n",
    "from catboost import CatBoostClassifier\n",
    "from lightgbm import LGBMClassifier\n",
    "from xgboost import XGBClassifier, cv\n",
    "\n",
    "from mlxtend.classifier import StackingCVClassifier\n",
    "from mlxtend.feature_selection import SequentialFeatureSelector\n",
    "\n",
    "import matplotlib as mpl\n",
    "import matplotlib.pyplot as plt\n",
    "import seaborn as sns\n",
    "\n",
    "\n",
    "from src.preprocessing.reader import check_features_names\n",
    "\n",
    "from src.preprocessing.features.gltr import create_gltr_feat\n",
    "from src.preprocessing.features.polynomial import create_poly_feat\n",
    "from src.preprocessing.features.manual_regex import create_regex_feat\n",
    "from src.preprocessing.features.pos_tagging import ALL_NLTK_TAGS, create_tagging_feat\n",
    "from src.preprocessing.features.tfidf import create_idf_feat\n",
    "from src.preprocessing.reduction.droping import drop_corr_feat, drop_list_feat\n",
    "from src.preprocessing.reduction.pca import perform_pca"
   ]
  },
  {
   "cell_type": "code",
   "execution_count": 2,
   "id": "b8ccb9f7",
   "metadata": {},
   "outputs": [
    {
     "name": "stderr",
     "output_type": "stream",
     "text": [
      "[nltk_data] Downloading package averaged_perceptron_tagger to\n",
      "[nltk_data]     /home/sebastien/nltk_data...\n",
      "[nltk_data]   Package averaged_perceptron_tagger is already up-to-\n",
      "[nltk_data]       date!\n",
      "[nltk_data] Downloading package stopwords to\n",
      "[nltk_data]     /home/sebastien/nltk_data...\n",
      "[nltk_data]   Package stopwords is already up-to-date!\n"
     ]
    }
   ],
   "source": [
    "# Seed to use everywhere for reproducibility\n",
    "seed = 8005\n",
    "\n",
    "# Package options and global variables\n",
    "warnings.simplefilter(action=\"ignore\", category=pd.errors.PerformanceWarning)\n",
    "\n",
    "np.random.seed(seed)\n",
    "\n",
    "nltk.download(\"averaged_perceptron_tagger\")\n",
    "nltk.download(\"stopwords\")\n",
    "\n",
    "# Display options\n",
    "pd.set_option(\"display.max_columns\", None)\n",
    "\n",
    "font = {\"size\": 18}\n",
    "mpl.rc(\"font\", **font)"
   ]
  },
  {
   "cell_type": "code",
   "execution_count": 3,
   "id": "1359bb47",
   "metadata": {},
   "outputs": [],
   "source": [
    "def plot_rep(df, feature, save=False):\n",
    "    \n",
    "    plt.figure(figsize=(10, 8))\n",
    "\n",
    "    color = iter(plt.cm.brg(np.linspace(0, 1, 2)))\n",
    "\n",
    "    sns.kdeplot(df.loc[df[\"label\"] == 0, feature], label=\"label = 0\", color=next(color))\n",
    "    sns.kdeplot(df.loc[df[\"label\"] == 1, feature], label=\"label = 1\", color=next(color))\n",
    "\n",
    "    plt.legend(loc=\"best\")\n",
    "    \n",
    "    if save:\n",
    "        plt.tight_layout()\n",
    "        plt.savefig(f\"report/figures/{feature}_repart.png\", facecolor=\"white\")\n",
    "    else:\n",
    "        plt.title(f\"Repartition of {feature} among label\")\n",
    "    \n",
    "    plt.show()"
   ]
  },
  {
   "cell_type": "markdown",
   "id": "b7d8a8a6",
   "metadata": {},
   "source": [
    "## Feature engineering"
   ]
  },
  {
   "cell_type": "code",
   "execution_count": 4,
   "id": "5cbe7fd2",
   "metadata": {},
   "outputs": [],
   "source": [
    "# Read files\n",
    "train_df = pd.read_json(\"data/train_set.json\")\n",
    "test_df = pd.read_json(\"data/test_set.json\")\n",
    "documents = pd.read_json(\"data/documents.json\")\n",
    "\n",
    "# Extract target\n",
    "label_var = [\"label\"]\n",
    "y_train = train_df[label_var]\n",
    "train_df.drop(columns=label_var, inplace=True)"
   ]
  },
  {
   "cell_type": "markdown",
   "id": "49a87e32",
   "metadata": {},
   "source": [
    "### Regex features\n",
    "\n",
    "List of all regex features to compute. The name of a regex feature should be of the form \"A_B\". A is the name of the regex expression, for example \"upper_word\". B is the type of feature we want, it can be \"count\" for the number of instances, \"avg\" for the average length of instances, \"overlap\" for the number of instances both found in the summary and the original document or \"ratio\" for the ratio between the number of instances found in the summary and the number of instances found in the document. Example: --regex-feat char_count group_overlap."
   ]
  },
  {
   "cell_type": "code",
   "execution_count": 5,
   "id": "89e83eb6",
   "metadata": {
    "scrolled": true
   },
   "outputs": [
    {
     "name": "stdout",
     "output_type": "stream",
     "text": [
      "\n",
      "Computing regex features...\n",
      "Number of regex features: 11.\n"
     ]
    }
   ],
   "source": [
    "regex_feat = [\n",
    "    \"char_count\", \"char_ratio\",\n",
    "    \"word_count\", \"word_overlap\", \"word_ratio\",\n",
    "    \"sent_avg\",\n",
    "    \"upper_word_ratio\",\n",
    "    \"group_overlap\",\n",
    "    \"is_last_ponct_count\",\n",
    "    \"space_before_ponct_count\",\n",
    "    \"word_3_count\"\n",
    "]\n",
    "\n",
    "create_regex_feat(train_df, test_df=test_df, regex_feat=regex_feat)"
   ]
  },
  {
   "cell_type": "markdown",
   "id": "377cc260",
   "metadata": {},
   "source": [
    "### Tf-idf features\n",
    "\n",
    "List of all tf-idf features names to compute. The name of an idf feature is expected to be of the form \"A_B\". A is a sequence of characters for the composition performed in `src.preprocessing.features.tfidf.idf_composition()`. B is the type of feature we want, it can be \"count\" for the term frequencies, \"lda\" for the latent dirichlet allocation, \"idf\" for idf features after a PCA transformation that keeps **svd_components** components from the initial counter features or \"cos\" for the cosine similarity between the summary and the original document."
   ]
  },
  {
   "cell_type": "code",
   "execution_count": 6,
   "id": "51860253",
   "metadata": {
    "scrolled": false
   },
   "outputs": [
    {
     "name": "stdout",
     "output_type": "stream",
     "text": [
      "\n",
      "Computing idf features...\n",
      "Number of idf features: 5.\n"
     ]
    }
   ],
   "source": [
    "idf_feat = [\n",
    "    \"n_count\", \"n_idf\", \"n_lda\"\n",
    "]\n",
    "\n",
    "create_idf_feat(seed, train_df, test_df=test_df, idf_feat=idf_feat, more_docs=documents, svd_components=1)"
   ]
  },
  {
   "cell_type": "markdown",
   "id": "ca882c80",
   "metadata": {},
   "source": [
    "### Tagging features\n",
    "\n",
    "List of all tagging features to compute. The name of a tagging feature must be of the form \"A_B\". A is a tag from all available tags in `nltk` or \"tags\". B is the type of feature we want, it can be \"count\" for the number of instances, \"avg\" for the average length of instances, \"overlap\" for the number of instances both found in the summary and the original document, \"ratio\" for the ratio between the number of instances found in the summary and the number of instances found in the document or \"C_D\" where C and D are parameters for idf features."
   ]
  },
  {
   "cell_type": "code",
   "execution_count": 7,
   "id": "2fbec7b6",
   "metadata": {},
   "outputs": [
    {
     "name": "stdout",
     "output_type": "stream",
     "text": [
      "\n",
      "Computing tagging features...\n",
      "Number of tagging features: 7.\n"
     ]
    }
   ],
   "source": [
    "tag_feat = [\n",
    "    \"DT_count\", \"DT_overlap\",\n",
    "    \"MD_count\",\n",
    "    \"NN_overlap\",\n",
    "    \"RB_count\",\n",
    "    \"$_overlap\",\n",
    "    \":_overlap\"\n",
    "]\n",
    "\n",
    "create_tagging_feat(seed, train_df, test_df=test_df, tag_feat=tag_feat, more_docs=documents, svd_components=1)"
   ]
  },
  {
   "cell_type": "markdown",
   "id": "ed9ae203",
   "metadata": {},
   "source": [
    "### GLTR features\n",
    "\n",
    "List of all GLTR features to compute. The name of a GLTR feature should be of the form \"A_B\". A is the name of a topk value computed by GLTR, it can be \"count\" or \"frac\". B is the number of bins to compute the feature."
   ]
  },
  {
   "cell_type": "code",
   "execution_count": 8,
   "id": "eaf680ac",
   "metadata": {},
   "outputs": [
    {
     "name": "stdout",
     "output_type": "stream",
     "text": [
      "\n",
      "Computing GLTR features...\n"
     ]
    },
    {
     "data": {
      "application/vnd.jupyter.widget-view+json": {
       "model_id": "c5689957e0714a82b050a5397a10ffbe",
       "version_major": 2,
       "version_minor": 0
      },
      "text/plain": [
       "Downloading:   0%|          | 0.00/0.99M [00:00<?, ?B/s]"
      ]
     },
     "metadata": {},
     "output_type": "display_data"
    },
    {
     "data": {
      "application/vnd.jupyter.widget-view+json": {
       "model_id": "a93c2fd89034426b97fd13bec592725e",
       "version_major": 2,
       "version_minor": 0
      },
      "text/plain": [
       "Downloading:   0%|          | 0.00/446k [00:00<?, ?B/s]"
      ]
     },
     "metadata": {},
     "output_type": "display_data"
    },
    {
     "data": {
      "application/vnd.jupyter.widget-view+json": {
       "model_id": "0b0e65d86bab4b01915918ed66cd7586",
       "version_major": 2,
       "version_minor": 0
      },
      "text/plain": [
       "Downloading:   0%|          | 0.00/665 [00:00<?, ?B/s]"
      ]
     },
     "metadata": {},
     "output_type": "display_data"
    },
    {
     "data": {
      "application/vnd.jupyter.widget-view+json": {
       "model_id": "e4dabbf0bccd44d1893c5b936bc442dc",
       "version_major": 2,
       "version_minor": 0
      },
      "text/plain": [
       "Downloading:   0%|          | 0.00/523M [00:00<?, ?B/s]"
      ]
     },
     "metadata": {},
     "output_type": "display_data"
    },
    {
     "name": "stdout",
     "output_type": "stream",
     "text": [
      "Loaded GPT-2 model!\n"
     ]
    },
    {
     "name": "stderr",
     "output_type": "stream",
     "text": [
      "100%|███████████████████████████████████████████████████████████████████████████████████████████████████████████████████████████████████████████████████████████████████████████████████████████████████| 8000/8000 [05:13<00:00, 25.52it/s]\n",
      "100%|███████████████████████████████████████████████████████████████████████████████████████████████████████████████████████████████████████████████████████████████████████████████████████████████████| 3200/3200 [02:01<00:00, 26.37it/s]"
     ]
    },
    {
     "name": "stdout",
     "output_type": "stream",
     "text": [
      "Number of GLTR features: 14.\n"
     ]
    },
    {
     "name": "stderr",
     "output_type": "stream",
     "text": [
      "\n"
     ]
    }
   ],
   "source": [
    "gltr_feat = [\n",
    "    \"count_4\", \"frac_10\"\n",
    "]\n",
    "\n",
    "train_df, test_df = create_gltr_feat(train_df, test_df=test_df, gltr_feat=gltr_feat)"
   ]
  },
  {
   "cell_type": "markdown",
   "id": "72367464",
   "metadata": {},
   "source": [
    "### Polynomial features\n",
    "\n",
    "- List of specific polynomial features. A fixed polynomial feature must be of the form \"A B C\". A, B and C can be features or powers of features, and their product will be computed. Example: --fixed-poly-feat \"char_count^2 group_overlap\".\n",
    "- List of polynomial features to compute of which interaction terms will be computed.\n",
    "- Define the degree until which products and powers of features are computed. If 1 or less, there will be no polynomial features. "
   ]
  },
  {
   "cell_type": "code",
   "execution_count": 9,
   "id": "dc554625",
   "metadata": {},
   "outputs": [],
   "source": [
    "fixed_poly_feat = []\n",
    "poly_feat = []\n",
    "poly_degree = 2\n",
    "\n",
    "create_poly_feat(\n",
    "    train_df, test_df=test_df, fixed_poly_feat=fixed_poly_feat, \n",
    "    poly_feat=poly_feat, poly_degree=poly_degree\n",
    ")"
   ]
  },
  {
   "cell_type": "markdown",
   "id": "0d35f077",
   "metadata": {},
   "source": [
    "### Drop excluded features\n",
    "\n",
    "List of features names to drop after computation. Example: --excl-feat \"char_count^2 group_overlap\"."
   ]
  },
  {
   "cell_type": "code",
   "execution_count": 10,
   "id": "8615f15a",
   "metadata": {},
   "outputs": [
    {
     "name": "stdout",
     "output_type": "stream",
     "text": [
      "\n",
      "Dropping specific features...\n",
      "Number of features after dropping excluded ones: 27\n"
     ]
    }
   ],
   "source": [
    "excl_feat = [\n",
    "    \"document\", \"summary\",\n",
    "    \"n_lda_2\", \"n_lda_3\"\n",
    "] + [\n",
    "    f\"topk_frac_{i}\" for i in range(1, 10)\n",
    "]\n",
    "\n",
    "drop_list_feat(train_df, test_df=test_df, excl_feat=excl_feat)"
   ]
  },
  {
   "cell_type": "markdown",
   "id": "d68810c4",
   "metadata": {},
   "source": [
    "### Drop correlated features\n",
    "\n",
    "Correlation threshold to select features. "
   ]
  },
  {
   "cell_type": "code",
   "execution_count": 11,
   "id": "ecdf4179",
   "metadata": {},
   "outputs": [],
   "source": [
    "corr_threshold = 1.\n",
    "\n",
    "drop_corr_feat(train_df, test_df=test_df, corr_threshold=corr_threshold)"
   ]
  },
  {
   "cell_type": "markdown",
   "id": "7d57e780",
   "metadata": {},
   "source": [
    "### Rescale the data"
   ]
  },
  {
   "cell_type": "code",
   "execution_count": 12,
   "id": "565311a8",
   "metadata": {},
   "outputs": [],
   "source": [
    "# Rescale the data\n",
    "sc = StandardScaler()\n",
    "\n",
    "train_df[train_df.columns] = sc.fit_transform(train_df[train_df.columns])\n",
    "test_df[test_df.columns] = sc.transform(test_df[test_df.columns])"
   ]
  },
  {
   "cell_type": "markdown",
   "id": "7ae74a78",
   "metadata": {},
   "source": [
    "### PCA\n",
    "\n",
    "Variance ratio parameter for the Principal Component Analysis."
   ]
  },
  {
   "cell_type": "code",
   "execution_count": 13,
   "id": "be2cdb54",
   "metadata": {},
   "outputs": [],
   "source": [
    "pca_ratio = 1.\n",
    "\n",
    "train_df, test_df = perform_pca(seed, train_df, test_df=test_df, pca_ratio=pca_ratio)"
   ]
  },
  {
   "cell_type": "markdown",
   "id": "b825ad10",
   "metadata": {},
   "source": [
    "### Final df"
   ]
  },
  {
   "cell_type": "code",
   "execution_count": 14,
   "id": "12368f3d",
   "metadata": {
    "scrolled": true
   },
   "outputs": [
    {
     "name": "stdout",
     "output_type": "stream",
     "text": [
      "Final training shape: (8000, 27)\n",
      "Features names: ['char_count', 'char_ratio', 'word_count', 'word_overlap', 'word_ratio', 'sent_avg', 'upper_word_ratio', 'group_overlap', 'is_last_ponct_count', 'space_before_ponct_count', 'word_3_count', 'n_count_PCA_1', 'n_idf_PCA_1', 'n_lda_0', 'n_lda_1', 'DT_count', 'DT_overlap', 'MD_count', 'NN_overlap', 'RB_count', '$_overlap', ':_overlap', 'topk_count_0', 'topk_count_1', 'topk_count_2', 'topk_count_3', 'topk_frac_0']\n"
     ]
    }
   ],
   "source": [
    "# Print some information\n",
    "print(f\"Final training shape: {train_df.shape}\")\n",
    "print(f\"Features names: {list(train_df.columns)}\")\n",
    "\n",
    "# Re-create the label variable\n",
    "train_df = train_df.merge(y_train, left_index=True, right_index=True, how=\"left\")\n",
    "\n",
    "# Train test split\n",
    "X = train_df.drop(columns=label_var).to_numpy()\n",
    "y = train_df[label_var].to_numpy().flatten()"
   ]
  },
  {
   "cell_type": "markdown",
   "id": "ebcbaa81",
   "metadata": {},
   "source": [
    "## Show some distribution of labels wrt a feature"
   ]
  },
  {
   "cell_type": "code",
   "execution_count": 15,
   "id": "9737cd14",
   "metadata": {},
   "outputs": [
    {
     "data": {
      "image/png": "[encoded data removed]",
      "text/plain": [
       "<Figure size 720x576 with 1 Axes>"
      ]
     },
     "metadata": {
      "needs_background": "light"
     },
     "output_type": "display_data"
    }
   ],
   "source": [
    "feature = \"space_before_ponct_count\"\n",
    "\n",
    "if feature in train_df.columns:\n",
    "    plot_rep(train_df, feature, save=False)"
   ]
  },
  {
   "cell_type": "markdown",
   "id": "85f4bb0a",
   "metadata": {},
   "source": [
    "## Try it!"
   ]
  },
  {
   "cell_type": "code",
   "execution_count": 16,
   "id": "a93c71a9",
   "metadata": {},
   "outputs": [
    {
     "name": "stdout",
     "output_type": "stream",
     "text": [
      "Cross-val accuracy: 0.8434\n"
     ]
    }
   ],
   "source": [
    "logreg = LogisticRegression(solver=\"newton-cg\")\n",
    "\n",
    "print(\"Cross-val accuracy:\", np.around(np.mean(cross_val_score(logreg, X, y, scoring=\"accuracy\", cv=5, n_jobs=-1)), 4))"
   ]
  },
  {
   "cell_type": "code",
   "execution_count": 17,
   "id": "e875440b",
   "metadata": {},
   "outputs": [
    {
     "name": "stdout",
     "output_type": "stream",
     "text": [
      "Cross-val accuracy: 0.9074\n"
     ]
    }
   ],
   "source": [
    "rfc = RandomForestClassifier(n_estimators=100, random_state=seed, n_jobs=-1, verbose=0)\n",
    "\n",
    "print(\"Cross-val accuracy:\", np.around(np.mean(cross_val_score(rfc, X, y, scoring=\"accuracy\", cv=5, n_jobs=-1)), 4))"
   ]
  },
  {
   "cell_type": "code",
   "execution_count": 18,
   "id": "7db21c1e",
   "metadata": {
    "scrolled": false
   },
   "outputs": [
    {
     "name": "stdout",
     "output_type": "stream",
     "text": [
      "Cross-val accuracy: 0.897\n"
     ]
    }
   ],
   "source": [
    "etc = ExtraTreesClassifier(n_estimators=100, random_state=seed, n_jobs=-1)\n",
    "\n",
    "print(\"Cross-val accuracy:\", np.around(np.mean(cross_val_score(etc, X, y, scoring=\"accuracy\", cv=5, n_jobs=-1)), 4))"
   ]
  },
  {
   "cell_type": "code",
   "execution_count": 19,
   "id": "07bdc0c6",
   "metadata": {
    "scrolled": true
   },
   "outputs": [
    {
     "name": "stdout",
     "output_type": "stream",
     "text": [
      "Cross-val accuracy: 0.9174\n"
     ]
    }
   ],
   "source": [
    "lgbm = LGBMClassifier(random_state=seed)\n",
    "\n",
    "print(\"Cross-val accuracy:\", np.around(np.mean(cross_val_score(lgbm, X, y, scoring=\"accuracy\", cv=5, n_jobs=-1)), 4))"
   ]
  },
  {
   "cell_type": "code",
   "execution_count": 20,
   "id": "36cb839c",
   "metadata": {},
   "outputs": [
    {
     "name": "stdout",
     "output_type": "stream",
     "text": [
      "Cross-val accuracy: 0.9156\n"
     ]
    }
   ],
   "source": [
    "skf = StratifiedKFold()\n",
    "scores = []\n",
    "\n",
    "for train_index, val_index in skf.split(X, y):\n",
    "\n",
    "    X_train, X_val = X[train_index], X[val_index]\n",
    "    y_train, y_val = y[train_index], y[val_index]\n",
    "    \n",
    "    xgb = XGBClassifier(random_state=seed, use_label_encoder=False, eval_metric=\"logloss\")\n",
    "    xgb.fit(X_train, y_train)\n",
    "    \n",
    "    scores.append(accuracy_score(y_val, xgb.predict(X_val)))    \n",
    "    \n",
    "print(\"Cross-val accuracy:\", np.around(np.mean(scores), 4))"
   ]
  },
  {
   "cell_type": "code",
   "execution_count": 24,
   "id": "44fdb831",
   "metadata": {
    "scrolled": true
   },
   "outputs": [
    {
     "name": "stderr",
     "output_type": "stream",
     "text": [
      "Custom logger is already specified. Specify more than one logger at same time is not thread safe."
     ]
    },
    {
     "name": "stdout",
     "output_type": "stream",
     "text": [
      "Learning rate set to 0.005203\n",
      "0:\tlearn: 0.6862881\ttotal: 2.3ms\tremaining: 11.5s\n",
      "250:\tlearn: 0.3108395\ttotal: 553ms\tremaining: 10.5s\n",
      "500:\tlearn: 0.2595875\ttotal: 1.11s\tremaining: 9.94s\n",
      "750:\tlearn: 0.2322414\ttotal: 1.62s\tremaining: 9.16s\n",
      "1000:\tlearn: 0.2142721\ttotal: 2.14s\tremaining: 8.54s\n",
      "1250:\tlearn: 0.2001637\ttotal: 2.63s\tremaining: 7.87s\n",
      "1500:\tlearn: 0.1881426\ttotal: 3.12s\tremaining: 7.27s\n",
      "1750:\tlearn: 0.1769910\ttotal: 3.6s\tremaining: 6.68s\n",
      "2000:\tlearn: 0.1664409\ttotal: 4.08s\tremaining: 6.12s\n",
      "2250:\tlearn: 0.1570737\ttotal: 4.56s\tremaining: 5.57s\n",
      "2500:\tlearn: 0.1483805\ttotal: 5.04s\tremaining: 5.04s\n",
      "2750:\tlearn: 0.1407140\ttotal: 5.53s\tremaining: 4.52s\n",
      "3000:\tlearn: 0.1339696\ttotal: 6.02s\tremaining: 4.01s\n",
      "3250:\tlearn: 0.1276292\ttotal: 6.53s\tremaining: 3.51s\n",
      "3500:\tlearn: 0.1218820\ttotal: 7.04s\tremaining: 3.01s\n",
      "3750:\tlearn: 0.1164719\ttotal: 7.54s\tremaining: 2.51s\n",
      "4000:\tlearn: 0.1114868\ttotal: 8.05s\tremaining: 2.01s\n",
      "4250:\tlearn: 0.1070862\ttotal: 8.56s\tremaining: 1.51s\n",
      "4500:\tlearn: 0.1027664\ttotal: 9.07s\tremaining: 1s\n",
      "4750:\tlearn: 0.0986708\ttotal: 9.57s\tremaining: 502ms\n",
      "4999:\tlearn: 0.0949315\ttotal: 10.1s\tremaining: 0us\n",
      "Learning rate set to 0.005203\n",
      "0:\tlearn: 0.6861949\ttotal: 2.13ms\tremaining: 10.6s\n",
      "250:\tlearn: 0.3103607\ttotal: 511ms\tremaining: 9.67s\n",
      "500:\tlearn: 0.2598310\ttotal: 1.01s\tremaining: 9.12s\n",
      "750:\tlearn: 0.2333016\ttotal: 1.51s\tremaining: 8.55s\n",
      "1000:\tlearn: 0.2151271\ttotal: 2.01s\tremaining: 8.03s\n",
      "1250:\tlearn: 0.2015276\ttotal: 2.51s\tremaining: 7.51s\n",
      "1500:\tlearn: 0.1900358\ttotal: 3s\tremaining: 7s\n",
      "1750:\tlearn: 0.1787703\ttotal: 3.5s\tremaining: 6.5s\n",
      "2000:\tlearn: 0.1673492\ttotal: 4s\tremaining: 6s\n",
      "2250:\tlearn: 0.1571723\ttotal: 4.5s\tremaining: 5.5s\n",
      "2500:\tlearn: 0.1484360\ttotal: 5s\tremaining: 5s\n",
      "2750:\tlearn: 0.1407776\ttotal: 5.51s\tremaining: 4.5s\n",
      "3000:\tlearn: 0.1336746\ttotal: 6.01s\tremaining: 4s\n",
      "3250:\tlearn: 0.1272470\ttotal: 6.51s\tremaining: 3.5s\n",
      "3500:\tlearn: 0.1210607\ttotal: 7.02s\tremaining: 3s\n",
      "3750:\tlearn: 0.1155020\ttotal: 7.54s\tremaining: 2.51s\n",
      "4000:\tlearn: 0.1105021\ttotal: 8.06s\tremaining: 2.01s\n",
      "4250:\tlearn: 0.1057278\ttotal: 8.57s\tremaining: 1.51s\n",
      "4500:\tlearn: 0.1011812\ttotal: 9.08s\tremaining: 1.01s\n",
      "4750:\tlearn: 0.0971036\ttotal: 9.6s\tremaining: 503ms\n",
      "4999:\tlearn: 0.0931280\ttotal: 10.1s\tremaining: 0us\n",
      "Learning rate set to 0.005203\n",
      "0:\tlearn: 0.6863329\ttotal: 2.09ms\tremaining: 10.5s\n",
      "250:\tlearn: 0.3111406\ttotal: 503ms\tremaining: 9.52s\n",
      "500:\tlearn: 0.2591101\ttotal: 1.01s\tremaining: 9.11s\n",
      "750:\tlearn: 0.2318850\ttotal: 1.53s\tremaining: 8.65s\n",
      "1000:\tlearn: 0.2139058\ttotal: 2.04s\tremaining: 8.15s\n",
      "1250:\tlearn: 0.2000319\ttotal: 2.54s\tremaining: 7.61s\n",
      "1500:\tlearn: 0.1882086\ttotal: 3.05s\tremaining: 7.1s\n",
      "1750:\tlearn: 0.1769250\ttotal: 3.56s\tremaining: 6.61s\n",
      "2000:\tlearn: 0.1657983\ttotal: 4.08s\tremaining: 6.11s\n",
      "2250:\tlearn: 0.1564339\ttotal: 4.59s\tremaining: 5.6s\n",
      "2500:\tlearn: 0.1484891\ttotal: 5.14s\tremaining: 5.14s\n",
      "2750:\tlearn: 0.1412399\ttotal: 5.67s\tremaining: 4.63s\n",
      "3000:\tlearn: 0.1342031\ttotal: 6.17s\tremaining: 4.11s\n",
      "3250:\tlearn: 0.1282135\ttotal: 6.7s\tremaining: 3.6s\n",
      "3500:\tlearn: 0.1222432\ttotal: 7.23s\tremaining: 3.1s\n",
      "3750:\tlearn: 0.1168586\ttotal: 7.77s\tremaining: 2.59s\n",
      "4000:\tlearn: 0.1119901\ttotal: 8.28s\tremaining: 2.07s\n",
      "4250:\tlearn: 0.1073000\ttotal: 8.85s\tremaining: 1.56s\n",
      "4500:\tlearn: 0.1028325\ttotal: 9.38s\tremaining: 1.04s\n",
      "4750:\tlearn: 0.0986227\ttotal: 9.89s\tremaining: 518ms\n",
      "4999:\tlearn: 0.0947236\ttotal: 10.5s\tremaining: 0us\n",
      "Learning rate set to 0.005203\n",
      "0:\tlearn: 0.6862614\ttotal: 3.03ms\tremaining: 15.1s\n",
      "250:\tlearn: 0.3119182\ttotal: 537ms\tremaining: 10.2s\n",
      "500:\tlearn: 0.2588386\ttotal: 1.04s\tremaining: 9.3s\n",
      "750:\tlearn: 0.2313465\ttotal: 1.55s\tremaining: 8.75s\n",
      "1000:\tlearn: 0.2129496\ttotal: 2.05s\tremaining: 8.19s\n",
      "1250:\tlearn: 0.1990974\ttotal: 2.56s\tremaining: 7.67s\n",
      "1500:\tlearn: 0.1869994\ttotal: 3.08s\tremaining: 7.18s\n",
      "1750:\tlearn: 0.1753677\ttotal: 3.59s\tremaining: 6.66s\n",
      "2000:\tlearn: 0.1645088\ttotal: 4.1s\tremaining: 6.14s\n",
      "2250:\tlearn: 0.1549010\ttotal: 4.59s\tremaining: 5.61s\n",
      "2500:\tlearn: 0.1473005\ttotal: 5.08s\tremaining: 5.08s\n",
      "2750:\tlearn: 0.1400322\ttotal: 5.61s\tremaining: 4.59s\n",
      "3000:\tlearn: 0.1331497\ttotal: 6.13s\tremaining: 4.08s\n",
      "3250:\tlearn: 0.1267269\ttotal: 6.66s\tremaining: 3.58s\n",
      "3500:\tlearn: 0.1207318\ttotal: 7.19s\tremaining: 3.08s\n",
      "3750:\tlearn: 0.1151778\ttotal: 7.7s\tremaining: 2.56s\n",
      "4000:\tlearn: 0.1098344\ttotal: 8.22s\tremaining: 2.05s\n",
      "4250:\tlearn: 0.1048785\ttotal: 8.75s\tremaining: 1.54s\n",
      "4500:\tlearn: 0.1003580\ttotal: 9.25s\tremaining: 1.02s\n",
      "4750:\tlearn: 0.0960805\ttotal: 9.79s\tremaining: 513ms\n",
      "4999:\tlearn: 0.0920034\ttotal: 10.3s\tremaining: 0us\n",
      "Learning rate set to 0.005203\n",
      "0:\tlearn: 0.6864990\ttotal: 1.94ms\tremaining: 9.71s\n",
      "250:\tlearn: 0.3147178\ttotal: 587ms\tremaining: 11.1s\n",
      "500:\tlearn: 0.2629171\ttotal: 1.1s\tremaining: 9.91s\n",
      "750:\tlearn: 0.2351549\ttotal: 1.62s\tremaining: 9.17s\n",
      "1000:\tlearn: 0.2166187\ttotal: 2.14s\tremaining: 8.56s\n",
      "1250:\tlearn: 0.2026486\ttotal: 2.66s\tremaining: 7.98s\n",
      "1500:\tlearn: 0.1909019\ttotal: 3.18s\tremaining: 7.41s\n",
      "1750:\tlearn: 0.1797378\ttotal: 3.7s\tremaining: 6.86s\n",
      "2000:\tlearn: 0.1686583\ttotal: 4.2s\tremaining: 6.3s\n",
      "2250:\tlearn: 0.1585780\ttotal: 4.71s\tremaining: 5.76s\n",
      "2500:\tlearn: 0.1494737\ttotal: 5.22s\tremaining: 5.21s\n",
      "2750:\tlearn: 0.1414280\ttotal: 5.72s\tremaining: 4.67s\n",
      "3000:\tlearn: 0.1341827\ttotal: 6.24s\tremaining: 4.16s\n",
      "3250:\tlearn: 0.1274940\ttotal: 6.77s\tremaining: 3.64s\n",
      "3500:\tlearn: 0.1215108\ttotal: 7.28s\tremaining: 3.12s\n",
      "3750:\tlearn: 0.1161299\ttotal: 7.82s\tremaining: 2.6s\n",
      "4000:\tlearn: 0.1108636\ttotal: 8.35s\tremaining: 2.08s\n",
      "4250:\tlearn: 0.1059271\ttotal: 8.86s\tremaining: 1.56s\n",
      "4500:\tlearn: 0.1013509\ttotal: 9.42s\tremaining: 1.04s\n",
      "4750:\tlearn: 0.0969817\ttotal: 9.95s\tremaining: 521ms\n",
      "4999:\tlearn: 0.0929485\ttotal: 10.5s\tremaining: 0us\n",
      "Cross-val accuracy: 0.9172\n"
     ]
    }
   ],
   "source": [
    "cat = CatBoostClassifier(n_estimators=5000, random_state=seed, verbose=250, allow_writing_files=False)\n",
    "\n",
    "print(\"Cross-val accuracy:\", np.around(np.mean(cross_val_score(cat, X, y, scoring=\"accuracy\", cv=5, n_jobs=1)), 4))"
   ]
  },
  {
   "cell_type": "code",
   "execution_count": 27,
   "id": "ebe9b21d",
   "metadata": {},
   "outputs": [
    {
     "name": "stdout",
     "output_type": "stream",
     "text": [
      "Learning rate set to 0.024888\n",
      "0:\tlearn: 0.8528125\ttest: 0.8593750\tbest: 0.8593750 (0)\ttotal: 2.12ms\tremaining: 10.6s\n",
      "250:\tlearn: 0.9254687\ttest: 0.9112500\tbest: 0.9125000 (241)\ttotal: 536ms\tremaining: 10.1s\n",
      "500:\tlearn: 0.9528125\ttest: 0.9243750\tbest: 0.9250000 (461)\ttotal: 1.09s\tremaining: 9.8s\n",
      "750:\tlearn: 0.9671875\ttest: 0.9218750\tbest: 0.9268750 (613)\ttotal: 1.66s\tremaining: 9.41s\n",
      "1000:\tlearn: 0.9778125\ttest: 0.9231250\tbest: 0.9268750 (613)\ttotal: 2.26s\tremaining: 9.02s\n",
      "1250:\tlearn: 0.9871875\ttest: 0.9225000\tbest: 0.9268750 (613)\ttotal: 2.81s\tremaining: 8.44s\n",
      "1500:\tlearn: 0.9926563\ttest: 0.9218750\tbest: 0.9268750 (613)\ttotal: 3.38s\tremaining: 7.87s\n",
      "1750:\tlearn: 0.9959375\ttest: 0.9218750\tbest: 0.9268750 (613)\ttotal: 3.92s\tremaining: 7.28s\n",
      "2000:\tlearn: 0.9981250\ttest: 0.9218750\tbest: 0.9268750 (613)\ttotal: 4.47s\tremaining: 6.7s\n",
      "2250:\tlearn: 0.9992188\ttest: 0.9206250\tbest: 0.9268750 (613)\ttotal: 5.01s\tremaining: 6.12s\n",
      "2500:\tlearn: 0.9993750\ttest: 0.9193750\tbest: 0.9268750 (613)\ttotal: 5.56s\tremaining: 5.55s\n",
      "2750:\tlearn: 0.9998438\ttest: 0.9193750\tbest: 0.9268750 (613)\ttotal: 6.1s\tremaining: 4.99s\n",
      "3000:\tlearn: 1.0000000\ttest: 0.9200000\tbest: 0.9268750 (613)\ttotal: 6.65s\tremaining: 4.43s\n",
      "3250:\tlearn: 1.0000000\ttest: 0.9193750\tbest: 0.9268750 (613)\ttotal: 7.2s\tremaining: 3.87s\n",
      "3500:\tlearn: 1.0000000\ttest: 0.9200000\tbest: 0.9268750 (613)\ttotal: 7.74s\tremaining: 3.31s\n",
      "3750:\tlearn: 1.0000000\ttest: 0.9206250\tbest: 0.9268750 (613)\ttotal: 8.29s\tremaining: 2.76s\n",
      "4000:\tlearn: 1.0000000\ttest: 0.9193750\tbest: 0.9268750 (613)\ttotal: 8.85s\tremaining: 2.21s\n",
      "4250:\tlearn: 1.0000000\ttest: 0.9200000\tbest: 0.9268750 (613)\ttotal: 9.4s\tremaining: 1.66s\n",
      "4500:\tlearn: 1.0000000\ttest: 0.9218750\tbest: 0.9268750 (613)\ttotal: 9.95s\tremaining: 1.1s\n",
      "4750:\tlearn: 1.0000000\ttest: 0.9212500\tbest: 0.9268750 (613)\ttotal: 10.5s\tremaining: 550ms\n",
      "4999:\tlearn: 1.0000000\ttest: 0.9218750\tbest: 0.9268750 (613)\ttotal: 11s\tremaining: 0us\n",
      "\n",
      "bestTest = 0.926875\n",
      "bestIteration = 613\n",
      "\n",
      "Shrink model to first 614 iterations.\n"
     ]
    },
    {
     "data": {
      "text/plain": [
       "<catboost.core.CatBoostClassifier at 0x7f41255a6790>"
      ]
     },
     "execution_count": 27,
     "metadata": {},
     "output_type": "execute_result"
    }
   ],
   "source": [
    "x_train, x_val, y_train, y_val = train_test_split(X, y, test_size=0.2, random_state=seed)\n",
    "\n",
    "cat = CatBoostClassifier(n_estimators=5000, random_state=seed, verbose=250, allow_writing_files=False,\n",
    "                         eval_metric=\"Accuracy\")\n",
    "\n",
    "cat.fit(x_train, y_train, eval_set=[(x_val, y_val)])"
   ]
  },
  {
   "cell_type": "code",
   "execution_count": 28,
   "id": "ca5f1201",
   "metadata": {
    "scrolled": true
   },
   "outputs": [
    {
     "name": "stdout",
     "output_type": "stream",
     "text": [
      "Fitting 4 classifiers...\n",
      "Fitting classifier1: randomforestclassifier (1/4)\n"
     ]
    },
    {
     "name": "stderr",
     "output_type": "stream",
     "text": [
      "[Parallel(n_jobs=1)]: Using backend SequentialBackend with 1 concurrent workers.\n",
      "[Parallel(n_jobs=1)]: Done   5 out of   5 | elapsed:    4.1s finished\n",
      "[Parallel(n_jobs=1)]: Using backend SequentialBackend with 1 concurrent workers.\n"
     ]
    },
    {
     "name": "stdout",
     "output_type": "stream",
     "text": [
      "Fitting classifier2: xgbclassifier (2/4)\n"
     ]
    },
    {
     "name": "stderr",
     "output_type": "stream",
     "text": [
      "[Parallel(n_jobs=1)]: Done   5 out of   5 | elapsed:    1.7s finished\n",
      "[Parallel(n_jobs=1)]: Using backend SequentialBackend with 1 concurrent workers.\n"
     ]
    },
    {
     "name": "stdout",
     "output_type": "stream",
     "text": [
      "Fitting classifier3: lgbmclassifier (3/4)\n"
     ]
    },
    {
     "name": "stderr",
     "output_type": "stream",
     "text": [
      "[Parallel(n_jobs=1)]: Done   5 out of   5 | elapsed:    1.2s finished\n",
      "[Parallel(n_jobs=1)]: Using backend SequentialBackend with 1 concurrent workers.\n"
     ]
    },
    {
     "name": "stdout",
     "output_type": "stream",
     "text": [
      "Fitting classifier4: catboostclassifier (4/4)\n"
     ]
    },
    {
     "name": "stderr",
     "output_type": "stream",
     "text": [
      "[Parallel(n_jobs=1)]: Done   5 out of   5 | elapsed:    4.0s finished\n"
     ]
    },
    {
     "name": "stdout",
     "output_type": "stream",
     "text": [
      "0.91375\n",
      "Fitting 4 classifiers...\n",
      "Fitting classifier1: randomforestclassifier (1/4)\n"
     ]
    },
    {
     "name": "stderr",
     "output_type": "stream",
     "text": [
      "[Parallel(n_jobs=1)]: Using backend SequentialBackend with 1 concurrent workers.\n",
      "[Parallel(n_jobs=1)]: Done   5 out of   5 | elapsed:    4.1s finished\n",
      "[Parallel(n_jobs=1)]: Using backend SequentialBackend with 1 concurrent workers.\n"
     ]
    },
    {
     "name": "stdout",
     "output_type": "stream",
     "text": [
      "Fitting classifier2: xgbclassifier (2/4)\n"
     ]
    },
    {
     "name": "stderr",
     "output_type": "stream",
     "text": [
      "[Parallel(n_jobs=1)]: Done   5 out of   5 | elapsed:    1.7s finished\n",
      "[Parallel(n_jobs=1)]: Using backend SequentialBackend with 1 concurrent workers.\n"
     ]
    },
    {
     "name": "stdout",
     "output_type": "stream",
     "text": [
      "Fitting classifier3: lgbmclassifier (3/4)\n"
     ]
    },
    {
     "name": "stderr",
     "output_type": "stream",
     "text": [
      "[Parallel(n_jobs=1)]: Done   5 out of   5 | elapsed:    1.1s finished\n",
      "[Parallel(n_jobs=1)]: Using backend SequentialBackend with 1 concurrent workers.\n"
     ]
    },
    {
     "name": "stdout",
     "output_type": "stream",
     "text": [
      "Fitting classifier4: catboostclassifier (4/4)\n"
     ]
    },
    {
     "name": "stderr",
     "output_type": "stream",
     "text": [
      "[Parallel(n_jobs=1)]: Done   5 out of   5 | elapsed:    4.2s finished\n"
     ]
    },
    {
     "name": "stdout",
     "output_type": "stream",
     "text": [
      "0.913125\n",
      "Fitting 4 classifiers...\n",
      "Fitting classifier1: randomforestclassifier (1/4)\n"
     ]
    },
    {
     "name": "stderr",
     "output_type": "stream",
     "text": [
      "[Parallel(n_jobs=1)]: Using backend SequentialBackend with 1 concurrent workers.\n",
      "[Parallel(n_jobs=1)]: Done   5 out of   5 | elapsed:    4.2s finished\n",
      "[Parallel(n_jobs=1)]: Using backend SequentialBackend with 1 concurrent workers.\n"
     ]
    },
    {
     "name": "stdout",
     "output_type": "stream",
     "text": [
      "Fitting classifier2: xgbclassifier (2/4)\n"
     ]
    },
    {
     "name": "stderr",
     "output_type": "stream",
     "text": [
      "[Parallel(n_jobs=1)]: Done   5 out of   5 | elapsed:    1.8s finished\n",
      "[Parallel(n_jobs=1)]: Using backend SequentialBackend with 1 concurrent workers.\n"
     ]
    },
    {
     "name": "stdout",
     "output_type": "stream",
     "text": [
      "Fitting classifier3: lgbmclassifier (3/4)\n"
     ]
    },
    {
     "name": "stderr",
     "output_type": "stream",
     "text": [
      "[Parallel(n_jobs=1)]: Done   5 out of   5 | elapsed:    1.1s finished\n",
      "[Parallel(n_jobs=1)]: Using backend SequentialBackend with 1 concurrent workers.\n"
     ]
    },
    {
     "name": "stdout",
     "output_type": "stream",
     "text": [
      "Fitting classifier4: catboostclassifier (4/4)\n"
     ]
    },
    {
     "name": "stderr",
     "output_type": "stream",
     "text": [
      "[Parallel(n_jobs=1)]: Done   5 out of   5 | elapsed:    4.3s finished\n"
     ]
    },
    {
     "name": "stdout",
     "output_type": "stream",
     "text": [
      "0.920625\n",
      "Fitting 4 classifiers...\n",
      "Fitting classifier1: randomforestclassifier (1/4)\n"
     ]
    },
    {
     "name": "stderr",
     "output_type": "stream",
     "text": [
      "[Parallel(n_jobs=1)]: Using backend SequentialBackend with 1 concurrent workers.\n",
      "[Parallel(n_jobs=1)]: Done   5 out of   5 | elapsed:    4.2s finished\n",
      "[Parallel(n_jobs=1)]: Using backend SequentialBackend with 1 concurrent workers.\n"
     ]
    },
    {
     "name": "stdout",
     "output_type": "stream",
     "text": [
      "Fitting classifier2: xgbclassifier (2/4)\n"
     ]
    },
    {
     "name": "stderr",
     "output_type": "stream",
     "text": [
      "[Parallel(n_jobs=1)]: Done   5 out of   5 | elapsed:    1.9s finished\n",
      "[Parallel(n_jobs=1)]: Using backend SequentialBackend with 1 concurrent workers.\n"
     ]
    },
    {
     "name": "stdout",
     "output_type": "stream",
     "text": [
      "Fitting classifier3: lgbmclassifier (3/4)\n"
     ]
    },
    {
     "name": "stderr",
     "output_type": "stream",
     "text": [
      "[Parallel(n_jobs=1)]: Done   5 out of   5 | elapsed:    1.2s finished\n",
      "[Parallel(n_jobs=1)]: Using backend SequentialBackend with 1 concurrent workers.\n"
     ]
    },
    {
     "name": "stdout",
     "output_type": "stream",
     "text": [
      "Fitting classifier4: catboostclassifier (4/4)\n"
     ]
    },
    {
     "name": "stderr",
     "output_type": "stream",
     "text": [
      "[Parallel(n_jobs=1)]: Done   5 out of   5 | elapsed:    4.2s finished\n"
     ]
    },
    {
     "name": "stdout",
     "output_type": "stream",
     "text": [
      "0.908125\n",
      "Fitting 4 classifiers...\n",
      "Fitting classifier1: randomforestclassifier (1/4)\n"
     ]
    },
    {
     "name": "stderr",
     "output_type": "stream",
     "text": [
      "[Parallel(n_jobs=1)]: Using backend SequentialBackend with 1 concurrent workers.\n",
      "[Parallel(n_jobs=1)]: Done   5 out of   5 | elapsed:    4.4s finished\n",
      "[Parallel(n_jobs=1)]: Using backend SequentialBackend with 1 concurrent workers.\n"
     ]
    },
    {
     "name": "stdout",
     "output_type": "stream",
     "text": [
      "Fitting classifier2: xgbclassifier (2/4)\n"
     ]
    },
    {
     "name": "stderr",
     "output_type": "stream",
     "text": [
      "[Parallel(n_jobs=1)]: Done   5 out of   5 | elapsed:    1.8s finished\n",
      "[Parallel(n_jobs=1)]: Using backend SequentialBackend with 1 concurrent workers.\n"
     ]
    },
    {
     "name": "stdout",
     "output_type": "stream",
     "text": [
      "Fitting classifier3: lgbmclassifier (3/4)\n"
     ]
    },
    {
     "name": "stderr",
     "output_type": "stream",
     "text": [
      "[Parallel(n_jobs=1)]: Done   5 out of   5 | elapsed:    1.2s finished\n",
      "[Parallel(n_jobs=1)]: Using backend SequentialBackend with 1 concurrent workers.\n"
     ]
    },
    {
     "name": "stdout",
     "output_type": "stream",
     "text": [
      "Fitting classifier4: catboostclassifier (4/4)\n"
     ]
    },
    {
     "name": "stderr",
     "output_type": "stream",
     "text": [
      "[Parallel(n_jobs=1)]: Done   5 out of   5 | elapsed:    4.4s finished\n"
     ]
    },
    {
     "name": "stdout",
     "output_type": "stream",
     "text": [
      "0.9225\n",
      "Cross-val accuracy: 0.9156\n"
     ]
    }
   ],
   "source": [
    "rfc = RandomForestClassifier(\n",
    "    max_samples=None, bootstrap=True, random_state=seed, n_jobs=1, n_estimators=69,\n",
    "    criterion=\"gini\", max_depth=None, min_samples_split=7, min_samples_leaf=2,\n",
    "    max_features=0.4, ccp_alpha=6.32e-6\n",
    ")\n",
    "lgbm = LGBMClassifier(\n",
    "    objective=\"binary\", verbose=-1, random_state=seed, n_jobs=1, n_estimators=122,\n",
    "    num_leaves=20, min_split_gain=2.42e-7, min_child_weight=5.45e-7, min_child_samples=2,\n",
    "    subsample=0.910, subsample_freq=4, reg_alpha=6.92e-6, reg_lambda=8.82e-4\n",
    ")\n",
    "xgb = XGBClassifier(\n",
    "    eval_metric=\"logloss\", use_label_encoder=False, random_state=seed, n_estimators=178,\n",
    "    subsample=0.649, colsample_bytree=0.83, colsample_bylevel=0.75, colsample_bynode=0.67,\n",
    "    max_delta_step=0.14, reg_alpha=3.01e-5, reg_lambda=3.02e-7, grow_policy=\"lossguide\"\n",
    ")\n",
    "cat = CatBoostClassifier(\n",
    "    verbose=False, allow_writing_files=False, random_state=seed, n_estimators=222,\n",
    "    learning_rate=0.03, grow_policy=\"Depthwise\", bootstrap_type=\"MVS\",\n",
    "    leaf_estimation_iterations=10, leaf_estimation_backtracking=\"AnyImprovement\",\n",
    "    od_type=\"IncToDec\", l2_leaf_reg=1.61e-4, min_data_in_leaf=5, subsample=0.62\n",
    ")\n",
    "\n",
    "meta_cls = LogisticRegression()\n",
    "\n",
    "skf = StratifiedKFold()\n",
    "scores = []\n",
    "\n",
    "for train_index, val_index in skf.split(X, y):\n",
    "\n",
    "    X_train, X_val = X[train_index], X[val_index]\n",
    "    y_train, y_val = y[train_index], y[val_index]\n",
    "    \n",
    "    stacking = StackingCVClassifier(\n",
    "        [rfc, xgb, lgbm, cat], meta_cls, use_probas=False, cv=5, shuffle=True, random_state=seed,\n",
    "        verbose=1, n_jobs=1\n",
    "    )\n",
    "    stacking.fit(X_train, y_train)\n",
    "    \n",
    "    scores.append(accuracy_score(y_val, stacking.predict(X_val)))    \n",
    "    print(scores[-1])\n",
    "    \n",
    "print(\"Cross-val accuracy:\", np.around(np.mean(scores), 4))"
   ]
  },
  {
   "cell_type": "markdown",
   "id": "9503e442",
   "metadata": {},
   "source": [
    "## Some feature selection using SFS"
   ]
  },
  {
   "cell_type": "code",
   "execution_count": 29,
   "id": "f04e8b14",
   "metadata": {
    "scrolled": true
   },
   "outputs": [
    {
     "name": "stderr",
     "output_type": "stream",
     "text": [
      "[Parallel(n_jobs=-1)]: Using backend LokyBackend with 8 concurrent workers.\n",
      "[Parallel(n_jobs=-1)]: Done  27 out of  27 | elapsed:   13.9s finished\n",
      "\n",
      "[2022-04-17 12:55:33] Features: 1/5 -- score: 0.7095[Parallel(n_jobs=-1)]: Using backend LokyBackend with 8 concurrent workers.\n",
      "[Parallel(n_jobs=-1)]: Done  26 out of  26 | elapsed:   16.3s finished\n",
      "[Parallel(n_jobs=-1)]: Using backend LokyBackend with 8 concurrent workers.\n",
      "[Parallel(n_jobs=-1)]: Done   1 out of   1 | elapsed:    1.8s finished\n",
      "\n",
      "[2022-04-17 12:55:52] Features: 2/5 -- score: 0.760375[Parallel(n_jobs=-1)]: Using backend LokyBackend with 8 concurrent workers.\n",
      "[Parallel(n_jobs=-1)]: Done  23 out of  25 | elapsed:   14.5s remaining:    1.3s\n",
      "[Parallel(n_jobs=-1)]: Done  25 out of  25 | elapsed:   15.5s finished\n",
      "[Parallel(n_jobs=-1)]: Using backend LokyBackend with 8 concurrent workers.\n",
      "[Parallel(n_jobs=-1)]: Done   2 out of   2 | elapsed:    2.1s finished\n",
      "\n",
      "[2022-04-17 12:56:09] Features: 3/5 -- score: 0.81325[Parallel(n_jobs=-1)]: Using backend LokyBackend with 8 concurrent workers.\n",
      "[Parallel(n_jobs=-1)]: Done  22 out of  24 | elapsed:   15.3s remaining:    1.4s\n",
      "[Parallel(n_jobs=-1)]: Done  24 out of  24 | elapsed:   15.7s finished\n",
      "[Parallel(n_jobs=-1)]: Using backend LokyBackend with 8 concurrent workers.\n",
      "[Parallel(n_jobs=-1)]: Done   3 out of   3 | elapsed:    2.4s finished\n",
      "\n",
      "[2022-04-17 12:56:27] Features: 4/5 -- score: 0.8665[Parallel(n_jobs=-1)]: Using backend LokyBackend with 8 concurrent workers.\n",
      "[Parallel(n_jobs=-1)]: Done  20 out of  23 | elapsed:   13.6s remaining:    2.0s\n",
      "[Parallel(n_jobs=-1)]: Done  23 out of  23 | elapsed:   14.0s finished\n",
      "[Parallel(n_jobs=-1)]: Using backend LokyBackend with 8 concurrent workers.\n",
      "[Parallel(n_jobs=-1)]: Done   4 out of   4 | elapsed:    3.2s remaining:    0.0s\n",
      "[Parallel(n_jobs=-1)]: Done   4 out of   4 | elapsed:    3.2s finished\n",
      "\n",
      "[2022-04-17 12:56:44] Features: 5/5 -- score: 0.8821249999999999"
     ]
    },
    {
     "data": {
      "text/plain": [
       "SequentialFeatureSelector(estimator=RandomForestClassifier(n_jobs=1,\n",
       "                                                           random_state=8005),\n",
       "                          floating=True, k_features=5, n_jobs=-1,\n",
       "                          scoring='accuracy', verbose=2)"
      ]
     },
     "execution_count": 29,
     "metadata": {},
     "output_type": "execute_result"
    }
   ],
   "source": [
    "rfc = RandomForestClassifier(n_estimators=100, random_state=seed, n_jobs=1)\n",
    "\n",
    "sfs = SequentialFeatureSelector(\n",
    "    rfc, k_features=5, forward=True, floating=True, verbose=2, scoring=\"accuracy\", cv=5, n_jobs=-1\n",
    ")\n",
    "\n",
    "sfs.fit(X, y, custom_feature_names=test_df.columns)"
   ]
  },
  {
   "cell_type": "code",
   "execution_count": 30,
   "id": "74351e7f",
   "metadata": {},
   "outputs": [
    {
     "data": {
      "text/plain": [
       "{1: {'feature_idx': (5,),\n",
       "  'cv_scores': array([0.72375 , 0.696875, 0.698125, 0.715   , 0.71375 ]),\n",
       "  'avg_score': 0.7095,\n",
       "  'feature_names': ('sent_avg',)},\n",
       " 2: {'feature_idx': (0, 5),\n",
       "  'cv_scores': array([0.756875, 0.75125 , 0.761875, 0.751875, 0.78    ]),\n",
       "  'avg_score': 0.760375,\n",
       "  'feature_names': ('char_count', 'sent_avg')},\n",
       " 3: {'feature_idx': (0, 3, 5),\n",
       "  'cv_scores': array([0.80875 , 0.814375, 0.809375, 0.813125, 0.820625]),\n",
       "  'avg_score': 0.81325,\n",
       "  'feature_names': ('char_count', 'word_overlap', 'sent_avg')},\n",
       " 4: {'feature_idx': (0, 3, 5, 9),\n",
       "  'cv_scores': array([0.865625, 0.87125 , 0.85375 , 0.86625 , 0.875625]),\n",
       "  'avg_score': 0.8665,\n",
       "  'feature_names': ('char_count',\n",
       "   'word_overlap',\n",
       "   'sent_avg',\n",
       "   'space_before_ponct_count')},\n",
       " 5: {'feature_idx': (0, 3, 5, 9, 26),\n",
       "  'cv_scores': array([0.881875, 0.885625, 0.875625, 0.88    , 0.8875  ]),\n",
       "  'avg_score': 0.8821249999999999,\n",
       "  'feature_names': ('char_count',\n",
       "   'word_overlap',\n",
       "   'sent_avg',\n",
       "   'space_before_ponct_count',\n",
       "   'topk_frac_0')}}"
      ]
     },
     "execution_count": 30,
     "metadata": {},
     "output_type": "execute_result"
    }
   ],
   "source": [
    "sfs.subsets_"
   ]
  },
  {
   "cell_type": "code",
   "execution_count": 31,
   "id": "33d10ee6",
   "metadata": {
    "scrolled": true
   },
   "outputs": [
    {
     "name": "stderr",
     "output_type": "stream",
     "text": [
      "[Parallel(n_jobs=-1)]: Using backend LokyBackend with 8 concurrent workers.\n",
      "[Parallel(n_jobs=-1)]: Done  27 out of  27 | elapsed:    2.1s finished\n",
      "\n",
      "[2022-04-17 12:56:59] Features: 1/5 -- score: 0.69875[Parallel(n_jobs=-1)]: Using backend LokyBackend with 8 concurrent workers.\n",
      "[Parallel(n_jobs=-1)]: Done  26 out of  26 | elapsed:    2.2s finished\n",
      "[Parallel(n_jobs=-1)]: Using backend LokyBackend with 8 concurrent workers.\n",
      "[Parallel(n_jobs=-1)]: Done   1 out of   1 | elapsed:    0.4s finished\n",
      "\n",
      "[2022-04-17 12:57:02] Features: 2/5 -- score: 0.7769999999999999[Parallel(n_jobs=-1)]: Using backend LokyBackend with 8 concurrent workers.\n",
      "[Parallel(n_jobs=-1)]: Done  23 out of  25 | elapsed:    2.1s remaining:    0.2s\n",
      "[Parallel(n_jobs=-1)]: Done  25 out of  25 | elapsed:    2.4s finished\n",
      "[Parallel(n_jobs=-1)]: Using backend LokyBackend with 8 concurrent workers.\n",
      "[Parallel(n_jobs=-1)]: Done   2 out of   2 | elapsed:    0.3s finished\n",
      "\n",
      "[2022-04-17 12:57:05] Features: 3/5 -- score: 0.834875[Parallel(n_jobs=-1)]: Using backend LokyBackend with 8 concurrent workers.\n",
      "[Parallel(n_jobs=-1)]: Done  22 out of  24 | elapsed:    2.3s remaining:    0.2s\n",
      "[Parallel(n_jobs=-1)]: Done  24 out of  24 | elapsed:    2.3s finished\n",
      "[Parallel(n_jobs=-1)]: Using backend LokyBackend with 8 concurrent workers.\n",
      "[Parallel(n_jobs=-1)]: Done   3 out of   3 | elapsed:    0.4s finished\n",
      "\n",
      "[2022-04-17 12:57:07] Features: 4/5 -- score: 0.8786249999999999[Parallel(n_jobs=-1)]: Using backend LokyBackend with 8 concurrent workers.\n",
      "[Parallel(n_jobs=-1)]: Done  20 out of  23 | elapsed:    2.5s remaining:    0.4s\n",
      "[Parallel(n_jobs=-1)]: Done  23 out of  23 | elapsed:    2.5s finished\n",
      "[Parallel(n_jobs=-1)]: Using backend LokyBackend with 8 concurrent workers.\n",
      "[Parallel(n_jobs=-1)]: Done   4 out of   4 | elapsed:    0.5s remaining:    0.0s\n",
      "[Parallel(n_jobs=-1)]: Done   4 out of   4 | elapsed:    0.5s finished\n",
      "\n",
      "[2022-04-17 12:57:10] Features: 5/5 -- score: 0.891875"
     ]
    },
    {
     "data": {
      "text/plain": [
       "SequentialFeatureSelector(estimator=LGBMClassifier(random_state=8005),\n",
       "                          floating=True, k_features=5, n_jobs=-1,\n",
       "                          scoring='accuracy', verbose=2)"
      ]
     },
     "execution_count": 31,
     "metadata": {},
     "output_type": "execute_result"
    }
   ],
   "source": [
    "lgbm = LGBMClassifier(random_state=seed)\n",
    "\n",
    "sfs2 = SequentialFeatureSelector(\n",
    "    lgbm, k_features=5, forward=True, floating=True, verbose=2, scoring=\"accuracy\", cv=5, n_jobs=-1\n",
    ")\n",
    "\n",
    "sfs2.fit(X, y, custom_feature_names=test_df.columns)"
   ]
  },
  {
   "cell_type": "code",
   "execution_count": 32,
   "id": "5995cfcc",
   "metadata": {},
   "outputs": [
    {
     "data": {
      "text/plain": [
       "{1: {'feature_idx': (5,),\n",
       "  'cv_scores': array([0.705   , 0.70125 , 0.679375, 0.696875, 0.71125 ]),\n",
       "  'avg_score': 0.69875,\n",
       "  'feature_names': ('sent_avg',)},\n",
       " 2: {'feature_idx': (0, 5),\n",
       "  'cv_scores': array([0.781875, 0.774375, 0.765   , 0.76625 , 0.7975  ]),\n",
       "  'avg_score': 0.7769999999999999,\n",
       "  'feature_names': ('char_count', 'sent_avg')},\n",
       " 3: {'feature_idx': (0, 3, 5),\n",
       "  'cv_scores': array([0.835625, 0.828125, 0.83125 , 0.83625 , 0.843125]),\n",
       "  'avg_score': 0.834875,\n",
       "  'feature_names': ('char_count', 'word_overlap', 'sent_avg')},\n",
       " 4: {'feature_idx': (0, 3, 5, 9),\n",
       "  'cv_scores': array([0.8775  , 0.881875, 0.878125, 0.87625 , 0.879375]),\n",
       "  'avg_score': 0.8786249999999999,\n",
       "  'feature_names': ('char_count',\n",
       "   'word_overlap',\n",
       "   'sent_avg',\n",
       "   'space_before_ponct_count')},\n",
       " 5: {'feature_idx': (0, 3, 5, 8, 9),\n",
       "  'cv_scores': array([0.885   , 0.893125, 0.893125, 0.8875  , 0.900625]),\n",
       "  'avg_score': 0.891875,\n",
       "  'feature_names': ('char_count',\n",
       "   'word_overlap',\n",
       "   'sent_avg',\n",
       "   'is_last_ponct_count',\n",
       "   'space_before_ponct_count')}}"
      ]
     },
     "execution_count": 32,
     "metadata": {},
     "output_type": "execute_result"
    }
   ],
   "source": [
    "sfs2.subsets_"
   ]
  }
 ],
 "metadata": {
  "kernelspec": {
   "display_name": "itmnlp",
   "language": "python",
   "name": "itmnlp"
  },
  "language_info": {
   "codemirror_mode": {
    "name": "ipython",
    "version": 3
   },
   "file_extension": ".py",
   "mimetype": "text/x-python",
   "name": "python",
   "nbconvert_exporter": "python",
   "pygments_lexer": "ipython3",
   "version": "3.7.12"
  }
 },
 "nbformat": 4,
 "nbformat_minor": 5
}
